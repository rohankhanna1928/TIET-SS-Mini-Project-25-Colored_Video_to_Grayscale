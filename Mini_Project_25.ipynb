{
  "nbformat": 4,
  "nbformat_minor": 0,
  "metadata": {
    "colab": {
      "provenance": [],
      "include_colab_link": true
    },
    "kernelspec": {
      "name": "python3",
      "display_name": "Python 3"
    },
    "language_info": {
      "name": "python"
    }
  },
  "cells": [
    {
      "cell_type": "markdown",
      "metadata": {
        "id": "view-in-github",
        "colab_type": "text"
      },
      "source": [
        "<a href=\"https://colab.research.google.com/github/rohankhanna1928/TIET-SS-Mini-Project-25-Colored_Video_to_Grayscale/blob/main/Mini_Project_25.ipynb\" target=\"_parent\"><img src=\"https://colab.research.google.com/assets/colab-badge.svg\" alt=\"Open In Colab\"/></a>"
      ]
    },
    {
      "cell_type": "code",
      "execution_count": 8,
      "metadata": {
        "colab": {
          "base_uri": "https://localhost:8080/"
        },
        "id": "hcALBVlSRzRG",
        "outputId": "01c6bf59-7781-42e6-f249-fcd5eb07934a"
      },
      "outputs": [
        {
          "output_type": "stream",
          "name": "stdout",
          "text": [
            "Converted all videos to grayscale and saved in gray_videos\n"
          ]
        }
      ],
      "source": [
        "import cv2\n",
        "import os\n",
        "\n",
        "input_folder = 'input_videos'\n",
        "output_folder = 'gray_videos'\n",
        "os.makedirs(output_folder, exist_ok=True)\n",
        "\n",
        "for filename in os.listdir(input_folder):\n",
        "    if filename.endswith(('.mp4', '.mov')):\n",
        "        input_path = os.path.join(input_folder, filename)\n",
        "        output_filename = os.path.splitext(filename)[0] + '_gray.mp4'\n",
        "        output_path = os.path.join(output_folder, output_filename)\n",
        "\n",
        "        cap = cv2.VideoCapture(input_path)\n",
        "        fourcc = cv2.VideoWriter_fourcc(*'XVID')\n",
        "        fps = int(cap.get(cv2.CAP_PROP_FPS))\n",
        "        width = int(cap.get(cv2.CAP_PROP_FRAME_WIDTH))\n",
        "        height = int(cap.get(cv2.CAP_PROP_FRAME_HEIGHT))\n",
        "\n",
        "        out = cv2.VideoWriter(output_path, fourcc, fps, (width, height), isColor=False)\n",
        "\n",
        "        while cap.isOpened():\n",
        "            ret, frame = cap.read()\n",
        "            if not ret:\n",
        "                break\n",
        "            gray_frame = cv2.cvtColor(frame, cv2.COLOR_BGR2GRAY)\n",
        "            out.write(gray_frame)\n",
        "\n",
        "        cap.release()\n",
        "        out.release()\n",
        "        print(f\"Converted all videos to grayscale and saved in {output_folder}\")"
      ]
    }
  ]
}